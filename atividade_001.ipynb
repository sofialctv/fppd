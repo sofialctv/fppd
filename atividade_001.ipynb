{
  "cells": [
    {
      "cell_type": "markdown",
      "metadata": {
        "id": "2kNfHNEze72j"
      },
      "source": [
        "**Aula 2**\n",
        "\n",
        "Após nossa primeira aula, onde discutimos os fundamentos da programação paralela, vamos relembrar conceitos de Programação concorrente."
      ]
    },
    {
      "cell_type": "markdown",
      "metadata": {
        "id": "L1GUjNH0fgJY"
      },
      "source": [
        "# *Atividade 1*\n",
        "Vamos relembrar o uso de threads\n"
      ]
    },
    {
      "cell_type": "markdown",
      "metadata": {
        "id": "qYxv9uk7k4Jb"
      },
      "source": [
        "#**1.A**\n",
        "Um programa só com a thread principal."
      ]
    },
    {
      "cell_type": "code",
      "execution_count": 1,
      "metadata": {
        "colab": {
          "base_uri": "https://localhost:8080/"
        },
        "id": "yT_iMpNef59Q",
        "outputId": "ddb74264-5f39-402b-99c0-22a154abca7e"
      },
      "outputs": [
        {
          "name": "stdout",
          "output_type": "stream",
          "text": [
            "Starting Task:\n",
            "Done\n",
            "Tempo decorrido:3.0020272731781006\n"
          ]
        }
      ],
      "source": [
        "#1. Definindo  o código a ser executado neste código, sincronamente.\n",
        "#importando bibliotecas necessárias\n",
        "import time\n",
        "from threading import Thread\n",
        "\n",
        "def task(sec):\n",
        "  print('Starting Task:')\n",
        "  time.sleep(sec)\n",
        "  print('Done')\n",
        "\n",
        "# Medindo o Tempo de Execução\n",
        "start=time.time()\n",
        "\n",
        "task(3)\n",
        "\n",
        "end=time.time()\n",
        "\n",
        "print( f'Tempo decorrido:{end-start}')\n",
        "\n"
      ]
    },
    {
      "cell_type": "markdown",
      "metadata": {
        "id": "9utmsZ04mhxM"
      },
      "source": [
        "#**1.B**\n",
        "Agora vamos  ver como seria um programa com  apenas a thread principal chamando a mesma tarefa múltiplas vezes"
      ]
    },
    {
      "cell_type": "code",
      "execution_count": null,
      "metadata": {
        "colab": {
          "base_uri": "https://localhost:8080/"
        },
        "id": "4PsTz2eJm1ID",
        "outputId": "79856e17-b9a4-4315-a19e-89da33e9a162"
      },
      "outputs": [
        {
          "name": "stdout",
          "output_type": "stream",
          "text": [
            "Starting Task...\n",
            "Done!\n",
            "Starting Task...\n",
            "Done!\n",
            "Starting Task...\n",
            "Done!\n",
            "Starting Task...\n",
            "Done!\n",
            "Starting Task...\n",
            "Done!\n",
            "Tempo decorrido:5.001891136169434\n"
          ]
        }
      ],
      "source": [
        "#importando bibliotecas necessárias\n",
        "import time\n",
        "from threading import Thread\n",
        "def task(sec):\n",
        "  print('Starting Task...')\n",
        "  time.sleep(sec)\n",
        "  print('Done!')\n",
        "\n",
        "\n",
        "start=time.time()\n",
        "\n",
        "for _ in range(5):\n",
        "   task(1)\n",
        "\n",
        "end=time.time()\n",
        "\n",
        "print( f'Tempo decorrido:{end-start}')"
      ]
    },
    {
      "cell_type": "markdown",
      "metadata": {
        "id": "IfvF8JxgnX6Z"
      },
      "source": [
        "#**1.C**\n",
        "Agora vamos tirar proveito  de  núcleos com multithreads."
      ]
    },
    {
      "cell_type": "code",
      "execution_count": null,
      "metadata": {
        "colab": {
          "base_uri": "https://localhost:8080/"
        },
        "id": "vvKf4R1KngkT",
        "outputId": "63e5c253-9885-417f-8022-a64f552dabe1"
      },
      "outputs": [
        {
          "name": "stdout",
          "output_type": "stream",
          "text": [
            "Doing Something...\n",
            "Doing Something...\n",
            "Doing Something...\n",
            "Doing Something...\n",
            "Doing Something...\n",
            "Tempo decorrido:0.004565238952636719\n"
          ]
        }
      ],
      "source": [
        "#importando bibliotecas necessárias\n",
        "import time\n",
        "from threading import Thread\n",
        "# Agora sim com múltiplas  Threads.\n",
        "def task(sec):\n",
        "  print('Doing Something...')\n",
        "  time.sleep(sec)\n",
        "  print('Done!')\n",
        "\n",
        "\n",
        "start=time.time()\n",
        "\n",
        "for _ in range(5):\n",
        "   new_thread = Thread(target=task, args=[1])\n",
        "   new_thread.start()\n",
        "\n",
        "\n",
        "end=time.time()\n",
        "\n",
        "print( f'Tempo decorrido:{end-start}')"
      ]
    },
    {
      "cell_type": "markdown",
      "metadata": {
        "id": "aBK-736ppUXW"
      },
      "source": [
        "#Ops!! Algo estranho, não?#"
      ]
    },
    {
      "cell_type": "markdown",
      "metadata": {
        "id": "PA1LRdkUq6xv"
      },
      "source": [
        "#**1.D**\n",
        "\n",
        "Vamos pedir que o processo que contenha as threads só termine quando todas as threads terminarem"
      ]
    },
    {
      "cell_type": "code",
      "execution_count": null,
      "metadata": {
        "colab": {
          "base_uri": "https://localhost:8080/"
        },
        "id": "RQ4TxGK-pegt",
        "outputId": "c32166f4-256d-4a79-a4a1-41d9297d96a8"
      },
      "outputs": [
        {
          "name": "stdout",
          "output_type": "stream",
          "text": [
            "Doing Something...\n",
            "Doing Something...\n",
            "Doing Something...\n",
            "Doing Something...\n",
            "Doing Something...\n",
            "Done!\n",
            "Done!\n",
            "Done!\n",
            "Done!\n",
            "Done!\n",
            "Tempo decorrido:1.015629529953003\n"
          ]
        }
      ],
      "source": [
        "#importando bibliotecas necessárias\n",
        "import time\n",
        "from threading import Thread\n",
        "# Agora sim com múltiplas  Threads.\n",
        "def do_something(sec):\n",
        "  print('Doing Something...')\n",
        "  time.sleep(sec)\n",
        "  print('Done!')\n",
        "\n",
        "threads=[]\n",
        "start=time.time()\n",
        "\n",
        "for _ in range(5):\n",
        "   new_thread = Thread(target=do_something, args=[1])\n",
        "   threads.append(new_thread)\n",
        "   new_thread.start()\n",
        "\n",
        "for t in threads:\n",
        "  t.join()\n",
        "\n",
        "\n",
        "\n",
        "end=time.time()\n",
        "\n",
        "print( f'Tempo decorrido:{end-start}')"
      ]
    },
    {
      "cell_type": "markdown",
      "metadata": {
        "id": "v2Xvh2PZI50x"
      },
      "source": [
        "#**1.E**\n",
        "\n",
        "Vamos encontrar o limite onde aumentando o número de threads  o tempo de conclusão fica maior que o tempo da Atividade  **1.B**"
      ]
    },
    {
      "cell_type": "code",
      "execution_count": null,
      "metadata": {
        "colab": {
          "base_uri": "https://localhost:8080/"
        },
        "id": "4lhLddcVJfeK",
        "outputId": "53742e61-c342-4ab9-a2ee-cf6327eb8148"
      },
      "outputs": [
        {
          "name": "stdout",
          "output_type": "stream",
          "text": [
            "Tempo decorrido:2.802807092666626\n"
          ]
        }
      ],
      "source": [
        "\n",
        "# Agora sim com múltiplas  Threads.\n",
        "#importando bibliotecas necessárias\n",
        "import time\n",
        "from threading import Thread\n",
        "def do_something(sec):\n",
        "  time.sleep(sec)\n",
        "  return 'Done!'\n",
        "\n",
        "\n",
        "threads=[]\n",
        "start=time.time()\n",
        "\n",
        "for _ in range(1000):\n",
        "   new_thread = Thread(target=do_something, args=[1])\n",
        "   threads.append(new_thread)\n",
        "   new_thread.start()\n",
        "\n",
        "for t in threads:\n",
        "  t.join()\n",
        "\n",
        "\n",
        "\n",
        "end=time.time()\n",
        "\n",
        "print( f'Tempo decorrido:{end-start}')"
      ]
    },
    {
      "cell_type": "markdown",
      "metadata": {
        "id": "dVbFPVoeKAR5"
      },
      "source": [
        "# *Atividade 2* #\n",
        "Vamos entender os fundamentos do paralelismo.\n",
        "Temos que pensar em como dividir o problema e qual deve ser a atividade final para o resultado correto."
      ]
    },
    {
      "cell_type": "markdown",
      "metadata": {
        "id": "76XCeZ1pL6TC"
      },
      "source": [
        "**2.A**\n",
        "\n",
        "Estabelecendo o Benchmark"
      ]
    },
    {
      "cell_type": "code",
      "execution_count": null,
      "metadata": {
        "id": "_co_k6Z_Xr3x"
      },
      "outputs": [],
      "source": [
        "# Criando o Vetor\n",
        "import numpy as np\n",
        "lista= np.random.randint(0, high=5000000,size=5000000)"
      ]
    },
    {
      "cell_type": "code",
      "execution_count": null,
      "metadata": {
        "colab": {
          "base_uri": "https://localhost:8080/"
        },
        "id": "YPFMaAikm96X",
        "outputId": "3ec56722-bd0a-4437-a8f8-470ea936fe3c"
      },
      "outputs": [
        {
          "name": "stdout",
          "output_type": "stream",
          "text": [
            "[      3       4       6 ... 4999995 4999995 4999999]\n",
            "Tempo decorrido:0.14804935455322266\n"
          ]
        }
      ],
      "source": [
        "import time\n",
        "from threading import Thread,Lock\n",
        "start=time.time()\n",
        "meu_arr_ordenado = np.sort(lista) # cria um arranjo ordenado em ordem decrescente\n",
        "\n",
        "end=time.time()\n",
        "print(meu_arr_ordenado)\n",
        "print( f'Tempo decorrido:{end-start}')"
      ]
    },
    {
      "cell_type": "code",
      "execution_count": null,
      "metadata": {
        "colab": {
          "background_save": true
        },
        "id": "4CdSIiTSpO0S",
        "outputId": "2f5887fe-719d-4cc0-8373-5e1a63bf7f4f"
      },
      "outputs": [
        {
          "name": "stdout",
          "output_type": "stream",
          "text": [
            "Buffered data was truncated after reaching the output size limit."
          ]
        }
      ],
      "source": [
        "def quicksort_thread(start_idx, end_idx, arr, result, idx):\n",
        "    part = arr[start_idx:end_idx]\n",
        "    result[idx] = np.sort(part)  # Usando np.sort() que é quicksort por padrão\n",
        "\n",
        "# Função para mesclar dois vetores ordenados\n",
        "def merge(arr1, arr2):\n",
        "    result = []\n",
        "    i, j = 0, 0\n",
        "    while i < len(arr1) and j < len(arr2):\n",
        "        if arr1[i] < arr2[j]:\n",
        "            result.append(arr1[i])\n",
        "            i += 1\n",
        "        else:\n",
        "            result.append(arr2[j])\n",
        "            j += 1\n",
        "    result.extend(arr1[i:])\n",
        "    result.extend(arr2[j:])\n",
        "    print\n",
        "    return result\n",
        "\n",
        "# Função para mesclar múltiplos vetores ordenados\n",
        "def multi_merge(parts):\n",
        "    while len(parts) > 1:\n",
        "        merged_parts = []\n",
        "        for i in range(0, len(parts), 2):\n",
        "            if i + 1 < len(parts):\n",
        "                merged_parts.append(merge(parts[i], parts[i+1]))\n",
        "            else:\n",
        "                merged_parts.append(parts[i])\n",
        "        parts = merged_parts\n",
        "    return parts[0]\n",
        "\n",
        "# Iniciando o cronômetro\n",
        "start = time.time()\n",
        "\n",
        "# Definindo o número de threads\n",
        "num_threads = 4\n",
        "part_size = len(lista) // num_threads\n",
        "\n",
        "# Lista para armazenar os resultados das threads\n",
        "result = [None] * num_threads\n",
        "\n",
        "# Criando as threads\n",
        "threads = []\n",
        "for i in range(num_threads):\n",
        "    start_idx = i * part_size\n",
        "    # Garantir que a última parte pegue até o final do vetor\n",
        "    end_idx = (i + 1) * part_size if i != num_threads - 1 else len(lista)\n",
        "    thread = Thread(target=quicksort_thread, args=(start_idx, end_idx, lista, result, i))\n",
        "    threads.append(thread)\n",
        "    thread.start()\n",
        "\n",
        "# Esperando as threads terminarem\n",
        "for thread in threads:\n",
        "    thread.join()\n",
        "\n",
        "# Mesclando as partes ordenadas\n",
        "final_result = multi_merge(result)\n",
        "# Finalizando o cronômetro\n",
        "end = time.time()\n",
        "\n",
        "# Exibindo o vetor ordenado e o tempo de execução\n",
        "print(final_result)  # Aqui imprimimos o vetor final ordenado\n",
        "print(f'Tempo decorrido com Quicksort paralelo: {end - start}')"
      ]
    },
    {
      "cell_type": "code",
      "execution_count": null,
      "metadata": {
        "colab": {
          "base_uri": "https://localhost:8080/"
        },
        "id": "0oFphGqeL5hc",
        "outputId": "eed02d2b-2f4e-4433-9a6a-d9673b32a80c"
      },
      "outputs": [
        {
          "name": "stdout",
          "output_type": "stream",
          "text": [
            "O resultado final  é:499841571677\n",
            "Tempo decorrido:0.32339954376220703\n"
          ]
        }
      ],
      "source": [
        "import time\n",
        "from threading import Thread,Lock\n",
        "\n",
        "result=0\n",
        "start=time.time()\n",
        "for i in lista:\n",
        "  result+=i\n",
        "\n",
        "print(\"O resultado final  é:{}\".format(result))\n",
        "end=time.time()\n",
        "\n",
        "print( f'Tempo decorrido:{end-start}')"
      ]
    },
    {
      "cell_type": "markdown",
      "metadata": {
        "id": "kRaBjHXnX_wI"
      },
      "source": [
        "#**2.B**#\n",
        "Agora vamos  usar a programação multithreading e ver  se ganhamos tempo"
      ]
    },
    {
      "cell_type": "code",
      "execution_count": null,
      "metadata": {
        "colab": {
          "base_uri": "https://localhost:8080/"
        },
        "id": "s5P2JqsKKI6v",
        "outputId": "5dd267a3-223b-45e7-96f4-382f1aa75f64"
      },
      "outputs": [
        {
          "name": "stdout",
          "output_type": "stream",
          "text": [
            "0 - Somando minha parte: de 0 a 1250000\n",
            "1 - Somando minha parte: de 1250000 a 2500000\n",
            "2 - Somando minha parte: de 2500000 a 3750000\n",
            "3 - Somando minha parte: de 3750000 a 5000000\n",
            "0 - Done! Minha soma: 3125146640740\n",
            "2 - Done! Minha soma: 3123047104382\n",
            "1 - Done! Minha soma: 3124935495533\n",
            "3 - Done! Minha soma: 3124031808943\n",
            "O resultado final é: 12497161049598\n",
            "Tempo decorrido: 0.9351 segundos\n"
          ]
        }
      ],
      "source": [
        "import time\n",
        "import threading\n",
        "lock=threading.Lock()\n",
        "threads = []\n",
        "result = 0\n",
        "n_threads = 4\n",
        "\n",
        "bloco = len(lista) // n_threads\n",
        "\n",
        "def task(lst,idx, inic, fin):\n",
        "    print('{0} - Somando minha parte: de {1} a {2}'.format(idx, inic, fin))\n",
        "    # usando uma variável global para acumular o resultado final\n",
        "    minhasoma=0\n",
        "    global result\n",
        "\n",
        "    for i in lst[inic:fin]:\n",
        "        minhasoma+=i\n",
        "    print('{0} - Done! Minha soma: {1}'.format(idx, minhasoma))\n",
        "    with lock:  # Usando 'with' para gerenciar o lock\n",
        "        result += minhasoma\n",
        "\n",
        "start = time.time()\n",
        "\n",
        "for x in range(n_threads):\n",
        "    inicio = x * bloco\n",
        "    final = inicio + bloco if x < n_threads - 1 else len(lista)  # Último bloco pode ser maior\n",
        "    new_thread = threading.Thread(target=task, args=(lista,x, inicio, final))\n",
        "    threads.append(new_thread)\n",
        "    new_thread.start()\n",
        "\n",
        "for t in threads:\n",
        "    t.join()\n",
        "\n",
        "print(\"O resultado final é: {0}\".format(result))\n",
        "end = time.time()\n",
        "\n",
        "print(f'Tempo decorrido: {end - start:.4f} segundos')"
      ]
    },
    {
      "cell_type": "markdown",
      "metadata": {
        "id": "kKk9w5NjcC0X"
      },
      "source": [
        "# * 2.C*#\n",
        "Será que removerndo o sincronismo lock o tempo melhora?"
      ]
    },
    {
      "cell_type": "code",
      "execution_count": null,
      "metadata": {
        "colab": {
          "base_uri": "https://localhost:8080/"
        },
        "id": "G60Y4X-hev02",
        "outputId": "d270b0dd-bf1d-46bf-e9c4-1f22c486410a"
      },
      "outputs": [
        {
          "name": "stderr",
          "output_type": "stream",
          "text": [
            "Exception in thread Thread-6138 (task):\n",
            "Traceback (most recent call last):\n",
            "  File \"/usr/lib/python3.11/threading.py\", line 1045, in _bootstrap_inner\n",
            "    self.run()\n",
            "  File \"/usr/lib/python3.11/threading.py\", line 982, in run\n",
            "    self._target(*self._args, **self._kwargs)\n",
            "  File \"<ipython-input-43-9d3ceafc2c41>\", line 19, in task\n",
            "IndexError: index 4 is out of bounds for axis 0 with size 4\n"
          ]
        },
        {
          "name": "stdout",
          "output_type": "stream",
          "text": [
            "0 - Somando minha parte: de 0 a 249999\n",
            "1 - Somando minha parte: de 250000 a 499999\n",
            "2 - Somando minha parte: de 500000 a 749999\n",
            "0 - Done! Minha soma: 125017540549\n",
            "3 - Somando minha parte: de 750000 a 999999\n",
            "1 - Done! Minha soma: 124926402389\n",
            "4 - Somando minha parte: de 1000000 a 1000000\n",
            "4 - Done! Minha soma: 0\n",
            "2 - Done! Minha soma: 124907196608\n",
            "3 - Done! Minha soma: 125012624312\n",
            "O resultado final é: 499863763858.0\n",
            "Tempo decorrido: 0.1092 segundos\n"
          ]
        }
      ],
      "source": [
        "import time\n",
        "import threading\n",
        "import numpy as np\n",
        "\n",
        "threads = []\n",
        "n_threads = 4\n",
        "result = np.zeros(n_threads)\n",
        "bloco = len(lista) // n_threads\n",
        "\n",
        "def task(lst,idx, inic, fin):\n",
        "    print('{0} - Somando minha parte: de {1} a {2}'.format(idx, inic, fin))\n",
        "    # usando uma variável global para acumular o resultado final\n",
        "    minhasoma=0\n",
        "    global result\n",
        "\n",
        "    for i in lst[inic:fin]:\n",
        "        minhasoma+=i\n",
        "    print('{0} - Done! Minha soma: {1}'.format(idx, minhasoma))\n",
        "    result[idx]= minhasoma\n",
        "\n",
        "start = time.time()\n",
        "\n",
        "for x in range(n_threads+1):\n",
        "    inicio = x * bloco\n",
        "    final = inicio + bloco -1 if x < n_threads else len(lista)  # Último bloco pode ser maior\n",
        "    new_thread = threading.Thread(target=task, args=(lista,x, inicio, final))\n",
        "    threads.append(new_thread)\n",
        "    new_thread.start()\n",
        "\n",
        "for t in threads:\n",
        "    t.join()\n",
        "\n",
        "print(\"O resultado final é: {0}\".format(np.sum(result)))\n",
        "end = time.time()\n",
        "\n",
        "print(f'Tempo decorrido: {end - start:.4f} segundos')"
      ]
    },
    {
      "cell_type": "markdown",
      "metadata": {
        "id": "Ug_W_m2CjJQL"
      },
      "source": [
        "elaborar um programa paralelo em nível de thread que calcule a soma dos quadrados dos ele"
      ]
    },
    {
      "cell_type": "code",
      "execution_count": null,
      "metadata": {
        "colab": {
          "base_uri": "https://localhost:8080/"
        },
        "id": "Tyq9WMhcjbli",
        "outputId": "153140e5-e53b-41b8-924f-a4e822b4e068"
      },
      "outputs": [
        {
          "name": "stdout",
          "output_type": "stream",
          "text": [
            "14873753764000000\n",
            "tempo decorido: 0.5904431343078613 segundos\n"
          ]
        }
      ],
      "source": [
        "# Elabore um programa paralelo em nivel de thread que calcule a soma dos quadrados dos elementos do vetor **vet** compara a versao serial com a paralela com 4 threads\n",
        "\n",
        "\n",
        "import numpy as np\n",
        "import time\n",
        "\n",
        "np.random.seed(42)\n",
        "vet = np.random.randint(0, high=1000000, size=1000000)\n",
        "soma = 0\n",
        "\n",
        "start = time.time()\n",
        "for i in range(len(vet)):\n",
        "  soma += vet[0]**2\n",
        "\n",
        "end = time.time()\n",
        "print(soma)\n",
        "print(\"tempo decorido: \" + str(end-start) + \" segundos\")"
      ]
    },
    {
      "cell_type": "code",
      "execution_count": null,
      "metadata": {
        "colab": {
          "base_uri": "https://localhost:8080/"
        },
        "id": "h7Cfy3u_ksCc",
        "outputId": "01c74cc5-e89f-47e9-8670-be637b2f9f59"
      },
      "outputs": [
        {
          "name": "stderr",
          "output_type": "stream",
          "text": [
            "Exception in thread Thread-5 (task):\n",
            "Traceback (most recent call last):\n",
            "  File \"/usr/lib/python3.11/threading.py\", line 1045, in _bootstrap_inner\n",
            "Exception in thread Thread-6 (task):\n",
            "Traceback (most recent call last):\n",
            "  File \"/usr/lib/python3.11/threading.py\", line 1045, in _bootstrap_inner\n",
            "    self.run()\n",
            "  File \"/usr/lib/python3.11/threading.py\", line 982, in run\n",
            "    self._target(*self._args, **self._kwargs)\n",
            "  File \"<ipython-input-1-e0fcfcde8775>\", line 21, in task\n",
            "IndexError: index 1000000 is out of bounds for axis 0 with size 1000000\n",
            "Exception in thread Thread-7 (task):\n",
            "Traceback (most recent call last):\n",
            "  File \"/usr/lib/python3.11/threading.py\", line 1045, in _bootstrap_inner\n",
            "    self.run()\n",
            "  File \"/usr/lib/python3.11/threading.py\", line 982, in run\n",
            "    self.run()\n",
            "  File \"/usr/lib/python3.11/threading.py\", line 982, in run\n",
            "    self._target(*self._args, **self._kwargs)\n",
            "  File \"<ipython-input-1-e0fcfcde8775>\", line 21, in task\n",
            "IndexError: index 1000000 is out of bounds for axis 0 with size 1000000\n",
            "    self._target(*self._args, **self._kwargs)\n",
            "  File \"<ipython-input-1-e0fcfcde8775>\", line 21, in task\n",
            "IndexError: index 1000000 is out of bounds for axis 0 with size 1000000\n"
          ]
        },
        {
          "name": "stdout",
          "output_type": "stream",
          "text": [
            "333154763967933740\n",
            "tempo decorido: 1.3261940479278564 segundos\n"
          ]
        }
      ],
      "source": [
        "import numpy as np\n",
        "import time\n",
        "import threading\n",
        "\n",
        "threads = []\n",
        "n_threads = 4\n",
        "result = 0\n",
        "indice = 0\n",
        "\n",
        "np.random.seed(42)\n",
        "vet = np.random.randint(0, high=1000000, size=1000000)\n",
        "\n",
        "start = time.time()\n",
        "\n",
        "def task():\n",
        "  global result\n",
        "  global indice\n",
        "  global vet\n",
        "  with threading.Lock():\n",
        "    while indice < len(vet):\n",
        "        result += vet[indice]**2\n",
        "        indice += 1\n",
        "\n",
        "for i in range(n_threads):\n",
        "  new_thread = threading.Thread(target=task)\n",
        "  threads.append(new_thread)\n",
        "  new_thread.start()\n",
        "\n",
        "for t in threads:\n",
        "    t.join()\n",
        "\n",
        "end = time.time()\n",
        "print(result)\n",
        "print(\"tempo decorido: \" + str(end-start) + \" segundos\")"
      ]
    }
  ],
  "metadata": {
    "colab": {
      "provenance": []
    },
    "kernelspec": {
      "display_name": "Python 3",
      "name": "python3"
    },
    "language_info": {
      "codemirror_mode": {
        "name": "ipython",
        "version": 3
      },
      "file_extension": ".py",
      "mimetype": "text/x-python",
      "name": "python",
      "nbconvert_exporter": "python",
      "pygments_lexer": "ipython3",
      "version": "3.12.10"
    }
  },
  "nbformat": 4,
  "nbformat_minor": 0
}
