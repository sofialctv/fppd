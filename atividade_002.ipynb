{
  "nbformat": 4,
  "nbformat_minor": 0,
  "metadata": {
    "colab": {
      "provenance": []
    },
    "kernelspec": {
      "name": "python3",
      "display_name": "Python 3"
    },
    "language_info": {
      "name": "python"
    }
  },
  "cells": [
    {
      "cell_type": "markdown",
      "source": [
        "**Aula 4**\n",
        "\n",
        "Após nossa terceira  aula, onde discutimos os fundamentos da programação paralela, vamos  avaliar duas alternativas  paralelismo"
      ],
      "metadata": {
        "id": "2kNfHNEze72j"
      }
    },
    {
      "cell_type": "code",
      "source": [
        "#importando bibliotecas necessárias\n",
        "import time\n",
        "import random as rd\n",
        "import numpy as np\n",
        "# SuperFastPython.com\n",
        "# example of extending the Process class\n",
        "\n",
        "from multiprocessing import Process"
      ],
      "metadata": {
        "id": "JOCmRx6uQli2"
      },
      "execution_count": null,
      "outputs": []
    },
    {
      "cell_type": "markdown",
      "source": [
        "Atividade1\n",
        "\n",
        "Através do problema de achar o maior e o menor de um vetor de inteiros.\n",
        "\n",
        "Vamos comparar multi-threads e multi-processos"
      ],
      "metadata": {
        "id": "mRFoIr0pfMlb"
      }
    },
    {
      "cell_type": "code",
      "source": [
        "vetor=np.random.randint(0, 1000, 100)"
      ],
      "metadata": {
        "id": "zCpYnEKoRCVz"
      },
      "execution_count": null,
      "outputs": []
    },
    {
      "cell_type": "code",
      "source": [
        "Múltiplas  Threads.\n",
        "def do_something(sec):\n",
        "  print('Doing Something...')\n",
        "  time.sleep(sec)\n",
        "  print('Done!')\n",
        "\n",
        "threads=[]\n",
        "start=time.time()\n",
        "\n",
        "for _ in range(1000):\n",
        "   new_thread = Thread(target=do_something, args=[1])\n",
        "   threads.append(new_thread)\n",
        "   new_thread.start()\n",
        "\n",
        "for t in threads:\n",
        "  t.join()\n",
        "\n",
        "\n",
        "\n",
        "end=time.time()\n",
        "\n",
        "print( f'Tempo decorrido:{end-start}')"
      ],
      "metadata": {
        "id": "_-t8hTKOfFc4"
      },
      "execution_count": null,
      "outputs": []
    },
    {
      "cell_type": "code",
      "source": [
        "#  Multi-processosa custom function that blocks for a moment\n",
        "def task(sleep_time, message):\n",
        "    # block for a moment\n",
        "    sleep(sleep_time)\n",
        "    # display a message\n",
        "    print(message)\n",
        "\n",
        "# entry point\n",
        "if __name__ == '__main__':\n",
        "    # create a process\n",
        "    process = Process(target=task, args=(1.5, 'New message from another process'))\n",
        "    # run the process\n",
        "    process.start()\n",
        "    # wait for the process to finish\n",
        "    print('Waiting for the process...')\n",
        "    process.join()"
      ],
      "metadata": {
        "id": "MbddzdA8c-8B"
      },
      "execution_count": null,
      "outputs": []
    },
    {
      "cell_type": "markdown",
      "source": [
        "Referência para memória compartilhadada:\n",
        "\n",
        "https://docs.python.org/3/library/multiprocessing.shared_memory.html"
      ],
      "metadata": {
        "id": "uXya94qdf0Q2"
      }
    }
  ]
}