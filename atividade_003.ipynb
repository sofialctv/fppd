{
  "nbformat": 4,
  "nbformat_minor": 0,
  "metadata": {
    "colab": {
      "provenance": []
    },
    "kernelspec": {
      "name": "python3",
      "display_name": "Python 3"
    },
    "language_info": {
      "name": "python"
    }
  },
  "cells": [
    {
      "cell_type": "markdown",
      "source": [
        "\n",
        "\n",
        "# *Atividade 2*\n",
        "Vamos fazer  uso de processos\n"
      ],
      "metadata": {
        "id": "L1GUjNH0fgJY"
      }
    },
    {
      "cell_type": "markdown",
      "source": [
        " # **2.A**\n",
        "Criação manual de processos e exibição  de seus PIDS"
      ],
      "metadata": {
        "id": "qYxv9uk7k4Jb"
      }
    },
    {
      "cell_type": "code",
      "source": [
        "# importing the multiprocessing module\n",
        "import multiprocessing\n",
        "import os\n",
        "import time\n",
        "\n",
        "def worker1():\n",
        "\t# printing process id\n",
        "\tprint(\"ID of process running worker1: {}\".format(os.getpid()))\n",
        "\n",
        "def worker2():\n",
        "\t# printing process id\n",
        "\tprint(\"ID of process running worker2: {}\".format(os.getpid()))\n",
        "\n",
        "if __name__ == \"__main__\":\n",
        "\t# printing main program process id\n",
        "\tprint(\"ID of main process: {}\".format(os.getpid()))\n",
        "\n",
        "\t# creating processes\n",
        "\tp1 = multiprocessing.Process(target=worker1)\n",
        "\tp2 = multiprocessing.Process(target=worker2)\n",
        "\n",
        "\t# starting processes\n",
        "\tp1.start()\n",
        "\tp2.start()\n",
        "\n",
        "\t# process IDs\n",
        "\tprint(\"ID of process p1: {}\".format(p1.pid))\n",
        "\tprint(\"ID of process p2: {}\".format(p2.pid))\n",
        "\n",
        "\t# wait until processes are finished\n",
        "\tp1.join()\n",
        "\tp2.join()\n",
        "\n",
        "\t# both processes finished\n",
        "\tprint(\"Both processes finished execution!\")\n",
        "\n",
        "\t# check if processes are alive\n",
        "\tprint(\"Process p1 is alive: {}\".format(p1.is_alive()))\n",
        "\tprint(\"Process p2 is alive: {}\".format(p2.is_alive()))\n"
      ],
      "metadata": {
        "id": "TB7n3ZmPSBhJ"
      },
      "execution_count": null,
      "outputs": []
    },
    {
      "cell_type": "markdown",
      "source": [
        "# **2.B**#\n",
        "Verificando a *independência* de Memória entre processos"
      ],
      "metadata": {
        "id": "IfvF8JxgnX6Z"
      }
    },
    {
      "cell_type": "code",
      "source": [
        "import multiprocessing\n",
        "import os\n",
        "\n",
        "# empty list with global scope\n",
        "result = []\n",
        "\n",
        "def square_list(mylist):\n",
        "\t\"\"\"\n",
        "\tfunction to square a given list\n",
        "\t\"\"\"\n",
        "\tglobal result\n",
        "\t# append squares of mylist to global list result\n",
        "\tfor num in mylist:\n",
        "\t\tresult.append(num * num)\n",
        "\t# print global list result\n",
        "\tprint(\"Result(in process p1): {}\".format(result))\n",
        "\n",
        "if __name__ == \"__main__\":\n",
        "\t  # input list\n",
        "\t  mylist = [1,2,3,4]\n",
        "\n",
        "\t  # creating new process\n",
        "\t  p1 = multiprocessing.Process(target=square_list, args=(mylist,))\n",
        "\t  # starting process\n",
        "\t  p1.start()\n",
        "\t  print(\"PID:{}\".format(p1.pid))\n",
        "\t  # wait until process is finished\n",
        "\t  p1.join()\n",
        "\n",
        "\t  # print global result list\n",
        "\t  print(\"Result(in main program): {}\".format(result))\n"
      ],
      "metadata": {
        "id": "yT_iMpNef59Q"
      },
      "execution_count": null,
      "outputs": []
    },
    {
      "cell_type": "markdown",
      "source": [
        "#**2.C**\n",
        "\n",
        "Como fazer os processos compartilharem alguma área de memória?\n"
      ],
      "metadata": {
        "id": "PA1LRdkUq6xv"
      }
    },
    {
      "cell_type": "code",
      "source": [
        "import multiprocessing\n",
        "\n",
        "def square_list(mylist, result, square_sum):\n",
        "\t\"\"\"\n",
        "\tfunction to square a given list\n",
        "\t\"\"\"\n",
        "\t# append squares of mylist to result array\n",
        "\tfor idx, num in enumerate(mylist):\n",
        "\t\tresult[idx] = num * num\n",
        "\n",
        "\t# square_sum value\n",
        "\tsquare_sum.value = sum(result)\n",
        "\n",
        "\t# print result Array\n",
        "\tprint(\"Result(in process p1): {}\".format(result[:]))\n",
        "\n",
        "\t# print square_sum Value\n",
        "\tprint(\"Sum of squares(in process p1): {}\".format(square_sum.value))\n",
        "\n",
        "if __name__ == \"__main__\":\n",
        "\t# input list\n",
        "\tmylist = [1,2,3,4]\n",
        "\n",
        "\t# creating Array of int data type with space for 4 integers Memória Compartilhada Solicitada ao SO\n",
        "\tresult = multiprocessing.Array('i', 4)\n",
        "\n",
        "\t# creating Value of int data type\n",
        "\tsquare_sum = multiprocessing.Value('i')\n",
        "\n",
        "\t# creating new process\n",
        "\tp1 = multiprocessing.Process(target=square_list, args=(mylist, result, square_sum))\n",
        "\n",
        "\t# starting process\n",
        "\tp1.start()\n",
        "\n",
        "\t# wait until the process is finished\n",
        "\tp1.join()\n",
        "\n",
        "\t# print result array\n",
        "\tprint(\"Result(in main program): {}\".format(result[:]))\n",
        "\n",
        "\t# print square_sum Value\n",
        "\tprint(\"Sum of squares(in main program): {}\".format(square_sum.value))\n"
      ],
      "metadata": {
        "id": "vvKf4R1KngkT"
      },
      "execution_count": null,
      "outputs": []
    },
    {
      "cell_type": "markdown",
      "source": [
        "**Atividade 3**\n",
        "\n",
        "Agora compare o tempo de processamento  entre um sistema com 3 threads e um com 3 processos."
      ],
      "metadata": {
        "id": "AVHzb3I2WMlR"
      }
    },
    {
      "cell_type": "code",
      "source": [
        "# Código pra Thread\n",
        "\n",
        "import time\n",
        "from threading import Thread\n",
        "# função a ser executada tanto pela tread quanto pelo processo\n",
        "def do_something(sec):\n",
        "  print('Doing Something...')\n",
        "  time.sleep(sec)\n",
        "  print('Done!')\n",
        "\n",
        "executables=[]\n",
        "start=time.time()\n",
        "for _ in range(3):\n",
        "   new_thread = Thread(target=do_something, args=[1])\n",
        "   executables.append(new_thread)\n",
        "   new_thread.start()\n",
        "\n",
        "for t in executables:\n",
        "  t.join()\n",
        "\n",
        "\n",
        "\n",
        "end=time.time()\n",
        "\n",
        "print( f'Tempo decorrido:{end-start}')"
      ],
      "metadata": {
        "id": "RQ4TxGK-pegt"
      },
      "execution_count": null,
      "outputs": []
    },
    {
      "cell_type": "code",
      "source": [
        "# Código para processo\n",
        "import time\n",
        "import multiprocessing\n",
        "# função a ser executada tanto pela tread quanto pelo processo\n",
        "def do_something(sec):\n",
        "  print('Doing Something...')\n",
        "  time.sleep(sec)\n",
        "  print('Done!')\n",
        "\n",
        "executables=[]\n",
        "start=time.time()\n",
        "for _ in range(3):\n",
        "  new_process = multiprocessing.Process(target=do_something, args=([1]))\n",
        "  new_process.start()\n",
        "  executables.append(new_process)\n",
        "\n",
        "for t in executables:\n",
        "  t.join()\n",
        "\n",
        "\n",
        "\n",
        "end=time.time()\n",
        "\n",
        "print( f'Tempo decorrido:{end-start}')"
      ],
      "metadata": {
        "id": "Azmh2d5fWisp"
      },
      "execution_count": null,
      "outputs": []
    },
    {
      "cell_type": "markdown",
      "source": [
        "# *  3.B Usando o Process Pool*#\n",
        "Vamos usar a abstração Process pool"
      ],
      "metadata": {
        "id": "FIrBdIDQrVEl"
      }
    },
    {
      "cell_type": "code",
      "source": [
        "from multiprocessing import Pool\n",
        "import os\n",
        "\n",
        "def worker_function(x):\n",
        "    pid = os.getpid()\n",
        "    return f\"Processing {x} in process {pid}\"\n",
        "\n",
        "if __name__ == '__main__':\n",
        "    with Pool(processes=4) as pool:\n",
        "        results = pool.map(worker_function, range(10))\n",
        "        for result in results:\n",
        "            print(result)"
      ],
      "metadata": {
        "id": "zHxTYIo_rwd1"
      },
      "execution_count": null,
      "outputs": []
    }
  ]
}