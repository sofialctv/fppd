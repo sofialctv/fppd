{
  "nbformat": 4,
  "nbformat_minor": 0,
  "metadata": {
    "colab": {
      "provenance": []
    },
    "kernelspec": {
      "name": "python3",
      "display_name": "Python 3"
    },
    "language_info": {
      "name": "python"
    }
  },
  "cells": [
    {
      "cell_type": "markdown",
      "source": [
        "# *Instruções*\n",
        "\n",
        "\n",
        "1.  Verifique se sua máquina tem o interpretador Python Instalado\n",
        "2.  Verifique quantos núcleos físicos sua máquina possui\n",
        "  * Windows:  https://support.microsoft.com/pt-br/windowsdescobrir-quantos-n%C3%BAcleos-o-processador-tem-3126ef99-0247-33b3-81fc-065e9fb0c35b#:~:text=Pressione%20Ctrl%20%2B%20Shift%20%2B%20ESC%20para,processadores%20l%C3%B3gicos%20seu%20computador%20tem.\n",
        "\n",
        "  * Linux : https://tecnoblog.net/responde/como-ver-quantos-nucleos-tem-a-cpu/#:~:text=Paulo%20Higa%2FTecnoblog)-,Qual%20comando%20digitar%20para%20ver%20o%20n%C3%BAmero%20de%20n%C3%BAcleos%20de,(s)%20por%20soquete%E2%80%9D.\n",
        "\n",
        "\n",
        "\n",
        "3. rode todos os códigos sugeridos em sua máquina física"
      ],
      "metadata": {
        "id": "2QBjqKhwhJ-x"
      }
    },
    {
      "cell_type": "markdown",
      "source": [
        "\n",
        "\n",
        "# *Atividade 1*\n",
        "\n",
        "Vamos Experimentar e verificar a Lei de Amdhal\n",
        "\n",
        "Speedup= T1/Tn,  onde  T1 é o tempo de execução do algoritmo  em um único processador e Tn é o tempo para n processadores\n",
        "\n",
        "O problema a ser utilizado no experimento é a ordenação de um vetor com 100.000 números inteiros"
      ],
      "metadata": {
        "id": "L1GUjNH0fgJY"
      }
    },
    {
      "cell_type": "markdown",
      "source": [
        " # **1.A**\n",
        "Usando o algorítmo da bolha (bubble sort) https://youtu.be/8RkZoBZNNgI\n",
        "Crie a Versão que usa um processador único"
      ],
      "metadata": {
        "id": "qYxv9uk7k4Jb"
      }
    },
    {
      "cell_type": "code",
      "source": [
        "import time\n",
        "import numpy as np\n",
        "#\n",
        "N=100000\n",
        "vetor=np.random.randint(0, high=None, size=N, dtype=int)\n",
        "\n",
        "#Não se esqueça de medir o tempo de processamento\n",
        "start=time.time()\n",
        "\n",
        "### crie seu código Aqui\n",
        "\n",
        "\n",
        "\n",
        "end=time.time()\n",
        "\n",
        "print( f'Tempo decorrido:{end-start}')"
      ],
      "metadata": {
        "id": "oPYSAQH-mLUe"
      },
      "execution_count": null,
      "outputs": []
    },
    {
      "cell_type": "markdown",
      "source": [
        "# *1.B*\n",
        "Usando o algorítmo da bolha (bubble sort)  Crie a Versão que usa ao menos 2 processadore (dois processos)"
      ],
      "metadata": {
        "id": "CV8HkwqZnT3w"
      }
    },
    {
      "cell_type": "code",
      "source": [
        "# importing the multiprocessing module\n",
        "import multiprocessing\n",
        "import os\n",
        "import time\n",
        "import numpy as np\n",
        "\n",
        "def task(array):\n",
        "# repetir o código do bubble sort aqui\n",
        "\n",
        "if __name__ == \"__main__\":\n",
        "\tSize=100000\n",
        " vetor=np.random.randint(0, high=None, size=Size, dtype=int)\n",
        " ctype = np.ctypeslib.as_ctypes(vetor)\n",
        "    # create ctype array initialized from our array\n",
        "  array = multiprocessing.Array(ctype._type_, vetor, lock=False)\n",
        "  start=time.time()\n",
        "\t# creating new process\n",
        "\tp1 = multiprocessing.Process(target=task, args=(array[0:len(array)//2],))\n",
        "\t# starting process\n",
        "\tp1.start()\n",
        "\t# wait until process is finished\n",
        "\tp1.join()\n",
        "  p2 = multiprocessing.Process(target=task, args=(array[len(array)//2+1:],))\n",
        "\t# starting process\n",
        "\tp2.start()\n",
        "\t# wait until process is finished\n",
        "\tp2.join()\n",
        "\t# passada final do algoritmo\n",
        "\ttask(array)\n",
        "  end=time.time()\n",
        "  print( f'Tempo decorrido:{end-start}')\n",
        "\n",
        "  print(\"Resultado:\",array)\n"
      ],
      "metadata": {
        "id": "TB7n3ZmPSBhJ"
      },
      "execution_count": null,
      "outputs": []
    },
    {
      "cell_type": "markdown",
      "source": [
        "Atividade 2\n",
        "Vamos Experimentar e verificar a Lei de Gustafson-Barsis\n",
        " Que propõe que o speedup escala  de forma proporcional ao tamanho do problema\n",
        "\n",
        "\n",
        "\n",
        "O problema a ser utilizado no experimento é a ordenação de um vetor com números inteiros:\n",
        "\n",
        "Partindo dos 100.000  iniciais, vamos usar o fator N=[2,3,4,5] para criar  vetores , respectivamente com o dobro do tamanho original, depois com o triplo, assim sucesivamente."
      ],
      "metadata": {
        "id": "IfvF8JxgnX6Z"
      }
    },
    {
      "cell_type": "code",
      "source": [
        " # usar aqui o código da Atividade 1.B Criando tantos processos quanto a quantidade de núcleos do seu computador\n",
        " # lembre-se de dividir o vetor igualmente entre os processos\n"
      ],
      "metadata": {
        "id": "yT_iMpNef59Q"
      },
      "execution_count": null,
      "outputs": []
    }
  ]
}