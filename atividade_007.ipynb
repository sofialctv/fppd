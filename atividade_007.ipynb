{
  "nbformat": 4,
  "nbformat_minor": 0,
  "metadata": {
    "colab": {
      "provenance": []
    },
    "kernelspec": {
      "name": "python3",
      "display_name": "Python 3"
    },
    "language_info": {
      "name": "python"
    }
  },
  "cells": [
    {
      "cell_type": "markdown",
      "source": [
        "Testando a Multiplicação  de  Matrizes de forma paralela\n",
        "\n",
        "1.Medir o tempo da versão serial;\n",
        "2. Desenvolver a versão paralela baseada em threads /linhas;\n",
        "3.Fazer o gráfico de tempo de execução por tamnho das matrizes;\n"
      ],
      "metadata": {
        "id": "ztlL_WYmrFim"
      }
    },
    {
      "cell_type": "code",
      "execution_count": null,
      "metadata": {
        "id": "6R4keMERq6as"
      },
      "outputs": [],
      "source": [
        "# importações Iniciais\n",
        "import numpy as np\n",
        "import time\n",
        "import matplotlib.pyplot as plt\n"
      ]
    },
    {
      "cell_type": "markdown",
      "source": [
        "Exemplo 1\n",
        "C= A.B\n",
        "\n",
        "A(100,100)\n",
        "\n",
        "B(100,100)"
      ],
      "metadata": {
        "id": "hKscqcurr_6s"
      }
    },
    {
      "cell_type": "code",
      "source": [
        "# Criando s matrizes\n",
        "dim=100\n",
        "C=np.zeros((dim,dim))\n",
        "A=np.random.rand(dim,dim)\n",
        "B=np.random.rand(dim,dim)"
      ],
      "metadata": {
        "id": "kMwbnPgmsN48"
      },
      "execution_count": null,
      "outputs": []
    },
    {
      "cell_type": "code",
      "source": [
        "# calculando o tempo Serial\n",
        "start=time.time()\n",
        "\n",
        "#C=A.dot(B)\n",
        "\n",
        "for i in range(100):\n",
        "  for j in range(100):\n",
        "    for k in range(100):\n",
        "      C[i,j]+=A[i,k]*B[k,j]\n",
        "end=time.time()\n",
        "print(\"Tempo Seria: {}\".format(end-start))"
      ],
      "metadata": {
        "colab": {
          "base_uri": "https://localhost:8080/"
        },
        "id": "ZhkQH9pVsv7l",
        "outputId": "0ee5b8a2-cb83-43dd-e93d-1373c8ddedb5"
      },
      "execution_count": null,
      "outputs": [
        {
          "output_type": "stream",
          "name": "stdout",
          "text": [
            "Tempo Seria: 0.8743231296539307\n"
          ]
        }
      ]
    },
    {
      "cell_type": "markdown",
      "source": [
        "Resultados:\n",
        "dim= 100\n",
        "\n",
        "Tempo Seria(numPy): 0.0045299530029296875\n",
        "Tempo Seria(loop): 0.8743231296539307"
      ],
      "metadata": {
        "id": "SwaO1o9tt6bX"
      }
    },
    {
      "cell_type": "code",
      "source": [
        "# Versão  Paralela:\n",
        "\"\"\"A=[[3,5],[1,2]]\n",
        "B=[[2,-5],[-1,3]]\n",
        "C=[[-9,-9],[0,0]]\"\"\"\n",
        "def task(a,b,c,lin):\n",
        " # a matriz sobre a qual as linhas(lin) serão destacadas\n",
        " # b matriz sobre a qual as colunas serão destacadas\n",
        " # c matriz resultado\n",
        "   for col in range(len(b[0])):\n",
        "     for i in range(len(a[0])):\n",
        "      c[lin][col]+=a[lin][i]*b[i][col]\n",
        "   return\n",
        "task(A,B,C,0)\n",
        "print(C)\n"
      ],
      "metadata": {
        "colab": {
          "base_uri": "https://localhost:8080/"
        },
        "id": "e_mCbyrhv9TI",
        "outputId": "409abffa-ece9-482f-c86d-3f833a6dff13"
      },
      "execution_count": null,
      "outputs": [
        {
          "output_type": "stream",
          "name": "stdout",
          "text": [
            "[[22.75967631 24.43181917 22.77640343 ... 24.9550058  21.65076779\n",
            "  24.75786894]\n",
            " [ 0.          0.          0.         ...  0.          0.\n",
            "   0.        ]\n",
            " [ 0.          0.          0.         ...  0.          0.\n",
            "   0.        ]\n",
            " ...\n",
            " [ 0.          0.          0.         ...  0.          0.\n",
            "   0.        ]\n",
            " [ 0.          0.          0.         ...  0.          0.\n",
            "   0.        ]\n",
            " [ 0.          0.          0.         ...  0.          0.\n",
            "   0.        ]]\n"
          ]
        }
      ]
    }
  ]
}